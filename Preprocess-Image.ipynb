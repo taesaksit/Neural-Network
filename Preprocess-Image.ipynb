{
 "cells": [
  {
   "cell_type": "code",
   "execution_count": 1,
   "id": "5ff72875",
   "metadata": {},
   "outputs": [],
   "source": [
    "import os \n",
    "import numpy as np\n",
    "import random\n",
    "from tensorflow.keras.preprocessing.image import load_img , img_to_array\n",
    "from tensorflow.image import rgb_to_grayscale"
   ]
  },
  {
   "cell_type": "code",
   "execution_count": 2,
   "id": "0d884ba1",
   "metadata": {},
   "outputs": [
    {
     "name": "stdout",
     "output_type": "stream",
     "text": [
      "Cat\n",
      "Dog\n"
     ]
    }
   ],
   "source": [
    "directory = 'cat_dog/'\n",
    "categories = ['Cat' , 'Dog']\n",
    "training_data = []\n",
    "\n",
    "\n",
    "for category in os.listdir(directory):\n",
    "    print(category)\n",
    "    path = os.path.join(directory , category)\n",
    "    class_num = categories.index(category)\n",
    " \n",
    "    for img in os.listdir(path):\n",
    "      \n",
    "        try:\n",
    "            image_path = os.path.join(path , img)\n",
    "            image = load_img(image_path , target_size=(128,128))\n",
    "            image_array = img_to_array(image)\n",
    "            image_gray = rgb_to_grayscale(image_array)\n",
    "            training_data.append([image_array,class_num])\n",
    "\n",
    "        except Exception as e:\n",
    "            print(e)"
   ]
  },
  {
   "cell_type": "code",
   "execution_count": 3,
   "id": "efe0f97f",
   "metadata": {},
   "outputs": [],
   "source": [
    "random.shuffle(training_data)\n",
    "x = []\n",
    "y = []\n",
    "for feature , label in training_data:\n",
    "    x.append(feature)\n",
    "    y.append(label)"
   ]
  },
  {
   "cell_type": "code",
   "execution_count": null,
   "id": "32722b9a",
   "metadata": {},
   "outputs": [],
   "source": []
  },
  {
   "cell_type": "code",
   "execution_count": 26,
   "id": "ad9107a4",
   "metadata": {},
   "outputs": [
    {
     "data": {
      "text/plain": [
       "array([[1., 0.],\n",
       "       [1., 0.],\n",
       "       [0., 1.],\n",
       "       [0., 1.],\n",
       "       [0., 1.]])"
      ]
     },
     "execution_count": 26,
     "metadata": {},
     "output_type": "execute_result"
    }
   ],
   "source": [
    "# encoding with sklearn\n",
    "from sklearn.preprocessing import OneHotEncoder\n",
    "onehot_sklearn = OneHotEncoder().fit_transform(np.array(y).reshape(-1,1))\n",
    "onehot_sklearn.toarray()[:5]\n"
   ]
  },
  {
   "cell_type": "code",
   "execution_count": 37,
   "id": "4a63028d",
   "metadata": {},
   "outputs": [
    {
     "data": {
      "text/plain": [
       "array([[1., 0.],\n",
       "       [1., 0.],\n",
       "       [0., 1.],\n",
       "       [0., 1.],\n",
       "       [0., 1.]])"
      ]
     },
     "execution_count": 37,
     "metadata": {},
     "output_type": "execute_result"
    }
   ],
   "source": [
    "# encoding with tensorflow\n",
    "import tensorflow as tf\n",
    "\n",
    "onehot_tensor = tf.keras.utils.to_categorical(np.array(y))\n",
    "onehot_tensor[:5]"
   ]
  },
  {
   "cell_type": "code",
   "execution_count": null,
   "id": "0ec2aede",
   "metadata": {},
   "outputs": [],
   "source": [
    "import pickle\n",
    "\n",
    "pickle_out = open('feature_rgb.pickle','wb')\n",
    "pickle.dump(x , pickle_out)\n",
    "pickle_out.close()\n",
    "\n",
    "pickle_out = open('label_rgb.pickle','wb')\n",
    "pickle.dump(y , pickle_out)\n",
    "pickle_out.close()\n"
   ]
  },
  {
   "cell_type": "code",
   "execution_count": null,
   "id": "af493890",
   "metadata": {},
   "outputs": [],
   "source": [
    "loadfeature = open('feature_rgb.pickle','rb')\n",
    "loadlabel = open('label_rgb.pickle','rb')\n",
    "x = pickle.load(loadfeature)\n",
    "y = pickle.load(loadlabel)\n",
    "\n",
    "x"
   ]
  },
  {
   "cell_type": "code",
   "execution_count": null,
   "id": "0c8fd118",
   "metadata": {},
   "outputs": [],
   "source": []
  }
 ],
 "metadata": {
  "kernelspec": {
   "display_name": "Python 3 (ipykernel)",
   "language": "python",
   "name": "python3"
  },
  "language_info": {
   "codemirror_mode": {
    "name": "ipython",
    "version": 3
   },
   "file_extension": ".py",
   "mimetype": "text/x-python",
   "name": "python",
   "nbconvert_exporter": "python",
   "pygments_lexer": "ipython3",
   "version": "3.11.7"
  }
 },
 "nbformat": 4,
 "nbformat_minor": 5
}
