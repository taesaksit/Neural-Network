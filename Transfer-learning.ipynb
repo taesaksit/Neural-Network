{
 "cells": [
  {
   "cell_type": "code",
   "execution_count": 10,
   "id": "e9068faa",
   "metadata": {},
   "outputs": [],
   "source": [
    "\n",
    "import numpy as np\n",
    "import pickle\n",
    "import matplotlib.pyplot as plt\n",
    "import tensorflow as tf\n",
    "from sklearn.model_selection import train_test_split\n",
    "\n",
    "np.set_printoptions(suppress=True)"
   ]
  },
  {
   "cell_type": "code",
   "execution_count": 3,
   "id": "6c64a1e1",
   "metadata": {},
   "outputs": [],
   "source": [
    "def load_data(name , label):\n",
    "\n",
    "    feature = pickle.load(open(name,'rb'))\n",
    "    label   = pickle.load(open(label,'rb'))\n",
    "    \n",
    "    return feature , label\n",
    "\n",
    "\n",
    "def split_data(X,y):\n",
    "    X_train , X_test , y_train , y_test = train_test_split(np.array(X) , np.array(y) , test_size=0.2)\n",
    "    return X_train , X_test , y_train , y_test\n",
    "\n",
    "def recale(X_train , X_test):\n",
    "    return X_train / 255 , X_test / 255\n",
    "\n",
    "\n",
    "\n"
   ]
  },
  {
   "cell_type": "code",
   "execution_count": 4,
   "id": "c890c399",
   "metadata": {},
   "outputs": [],
   "source": [
    "# Load base model\n",
    "\n",
    "base_model = tf.keras.applications.MobileNetV2(input_shape=(128,128,3) , \n",
    "                                               include_top=False,\n",
    "                                              weights='imagenet')\n",
    "base_model.trainable = False\n",
    "\n",
    "# Flatten layer\n",
    "average_pooling = tf.keras.layers.GlobalAveragePooling2D()(base_model.output)\n",
    "# Output layer\n",
    "prediction_layer = tf.keras.layers.Dense(units=1 , activation='sigmoid')(average_pooling)\n",
    "\n",
    "\n",
    "# Custom head\n",
    "model = tf.keras.models.Model(inputs=base_model.input , outputs=prediction_layer)\n",
    "\n",
    "X , y = load_data('feature_rgb.pickle' , 'label_rgb.pickle')\n",
    "X_train , X_test , y_train , y_test = split_data(X,y)\n",
    "X_train , X_test = recale(X_train , X_test)"
   ]
  },
  {
   "cell_type": "code",
   "execution_count": 7,
   "id": "1e161454",
   "metadata": {},
   "outputs": [
    {
     "name": "stdout",
     "output_type": "stream",
     "text": [
      "Epoch 1/5\n",
      "\u001b[1m40/40\u001b[0m \u001b[32m━━━━━━━━━━━━━━━━━━━━\u001b[0m\u001b[37m\u001b[0m \u001b[1m80s\u001b[0m 2s/step - accuracy: 0.6783 - loss: 0.5959 - val_accuracy: 0.9418 - val_loss: 0.1558\n",
      "Epoch 2/5\n",
      "\u001b[1m40/40\u001b[0m \u001b[32m━━━━━━━━━━━━━━━━━━━━\u001b[0m\u001b[37m\u001b[0m \u001b[1m75s\u001b[0m 2s/step - accuracy: 0.9424 - loss: 0.1530 - val_accuracy: 0.9568 - val_loss: 0.1164\n",
      "Epoch 3/5\n",
      "\u001b[1m40/40\u001b[0m \u001b[32m━━━━━━━━━━━━━━━━━━━━\u001b[0m\u001b[37m\u001b[0m \u001b[1m77s\u001b[0m 2s/step - accuracy: 0.9577 - loss: 0.1138 - val_accuracy: 0.9614 - val_loss: 0.1030\n",
      "Epoch 4/5\n",
      "\u001b[1m40/40\u001b[0m \u001b[32m━━━━━━━━━━━━━━━━━━━━\u001b[0m\u001b[37m\u001b[0m \u001b[1m78s\u001b[0m 2s/step - accuracy: 0.9614 - loss: 0.0997 - val_accuracy: 0.9636 - val_loss: 0.0965\n",
      "Epoch 5/5\n",
      "\u001b[1m40/40\u001b[0m \u001b[32m━━━━━━━━━━━━━━━━━━━━\u001b[0m\u001b[37m\u001b[0m \u001b[1m78s\u001b[0m 2s/step - accuracy: 0.9657 - loss: 0.0923 - val_accuracy: 0.9662 - val_loss: 0.0923\n"
     ]
    },
    {
     "data": {
      "text/plain": [
       "<keras.src.callbacks.history.History at 0x165fdf0d0>"
      ]
     },
     "execution_count": 7,
     "metadata": {},
     "output_type": "execute_result"
    }
   ],
   "source": [
    "model.compile( optimizer='adam',\n",
    "               loss='binary_crossentropy',\n",
    "               metrics=['accuracy'],\n",
    "             )\n",
    "\n",
    "model.fit(X_train ,y_train , validation_data=(X_test , y_test) , batch_size=512 , verbose=1 , epochs=5)"
   ]
  },
  {
   "cell_type": "code",
   "execution_count": 12,
   "id": "29f1616c",
   "metadata": {},
   "outputs": [
    {
     "data": {
      "text/plain": [
       "[<matplotlib.lines.Line2D at 0x168a7a750>]"
      ]
     },
     "execution_count": 12,
     "metadata": {},
     "output_type": "execute_result"
    },
    {
     "data": {
      "image/png": "[encoded data removed]",
      "text/plain": [
       "<Figure size 640x480 with 1 Axes>"
      ]
     },
     "metadata": {},
     "output_type": "display_data"
    }
   ],
   "source": [
    "plt.plot(model.history.history['accuracy'])\n",
    "plt.plot(model.history.history['val_accuracy'])"
   ]
  },
  {
   "cell_type": "code",
   "execution_count": 2,
   "id": "0e48e738",
   "metadata": {},
   "outputs": [],
   "source": [
    "# "
   ]
  }
 ],
 "metadata": {
  "kernelspec": {
   "display_name": "Python 3 (ipykernel)",
   "language": "python",
   "name": "python3"
  },
  "language_info": {
   "codemirror_mode": {
    "name": "ipython",
    "version": 3
   },
   "file_extension": ".py",
   "mimetype": "text/x-python",
   "name": "python",
   "nbconvert_exporter": "python",
   "pygments_lexer": "ipython3",
   "version": "3.11.7"
  }
 },
 "nbformat": 4,
 "nbformat_minor": 5
}
